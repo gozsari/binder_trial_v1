{
 "cells": [
  {
   "cell_type": "code",
   "execution_count": 49,
   "metadata": {},
   "outputs": [],
   "source": [
    "import pandas as pd\n",
    "import numpy as np\n",
    "import matplotlib.pyplot as plt\n",
    "import seaborn as sns\n",
    "from ipywidgets import interact, interactive, fixed, interact_manual\n",
    "\n"
   ]
  },
  {
   "cell_type": "markdown",
   "metadata": {},
   "source": [
    "# Analysis of Enzyme Commission (EC) numbers in the proteins of interest\n",
    "\n",
    "This notebook is to analyze the Enzyme Commission (EC) numbers in the proteins of interest. The EC numbers are a numerical classification scheme for enzymes, based on the chemical reactions they catalyze. The EC numbers are a hierarchical classification, with four levels of increasing specificity. The first level is the broadest, and the fourth level is the most specific. The EC numbers are used to classify enzymes in the Enzyme Commission of the International Union of Biochemistry and Molecular Biology (IUBMB).\n",
    "\n",
    "\n",
    "EC --> Forth level of EC\n",
    "\n",
    "EC2 ---> Second level of EC\n",
    "\n",
    "EC1 ---> First level of EC"
   ]
  },
  {
   "cell_type": "code",
   "execution_count": 50,
   "metadata": {},
   "outputs": [],
   "source": [
    "# load data from csv\n",
    "df = pd.read_csv('pocket_active_sites_gass_prank.csv', sep=',', header=0)\n",
    "# create new column with first two letters of EC number\n",
    "df['EC_NUMBER_2'] = df['EC_NUMBER'].str[:3]\n",
    "\n",
    "# create new column with first letter of EC number\n",
    "df['EC_NUMBER_1'] = df['EC_NUMBER'].str[:1]\n",
    "\n",
    "#strip whitespace from the values in the 'POCKET' column\n",
    "df['POCKET'] = df['POCKET'].str.strip()\n",
    "\n",
    "# filter according to POCKET (filter out pocket1 and pocket2)\n",
    "df_filtered = df[df['POCKET'] != 'pocket1']\n",
    "df_filtered = df_filtered[df_filtered['POCKET'] != 'pocket2']\n",
    "\n",
    "# create a new column with only residue number (strip the chain)\n",
    "df_filtered['RESIDUE_NUMBER'] = df_filtered['RESIDUE'].str[2:]\n",
    "\n",
    "# create a new column with only chain \n",
    "df_filtered['CHAIN'] = df_filtered['RESIDUE'].str[0]\n",
    "\n",
    "# filter data according to fitness score < 5\n",
    "df_filtered = df_filtered[df_filtered['FITNESS'] < 5]\n",
    "\n",
    "\n",
    "# form a column which calculates average FITNESS score for each POCKET in each PDB_ID\n",
    "df_filtered['avg_fitness'] = df_filtered.groupby(['PDB_ID', 'POCKET'])['FITNESS'].transform('mean')\n",
    "\n"
   ]
  },
  {
   "cell_type": "markdown",
   "metadata": {},
   "source": [
    "## Dataframe by EC number\n",
    "You can filter the data by EC number and see the residues, pockets, and proteins that have that EC number."
   ]
  },
  {
   "cell_type": "code",
   "execution_count": 51,
   "metadata": {},
   "outputs": [
    {
     "data": {
      "application/vnd.jupyter.widget-view+json": {
       "model_id": "e565ce8caa95450891553989294ef3f9",
       "version_major": 2,
       "version_minor": 0
      },
      "text/plain": [
       "interactive(children=(Dropdown(description='EC_NUMBER', options=('1.6', '1.9', '4.2', '2.5', '4.3', '4.1', '1.…"
      ]
     },
     "metadata": {},
     "output_type": "display_data"
    }
   ],
   "source": [
    "@interact\n",
    "def filter_data_by_EC(EC_NUMBER = df_filtered['EC_NUMBER_2'].unique()):\n",
    "    return df_filtered[df_filtered['EC_NUMBER_2'] == EC_NUMBER]"
   ]
  },
  {
   "cell_type": "code",
   "execution_count": 56,
   "metadata": {},
   "outputs": [],
   "source": [
    "def heatmap_residue_pdbID_by_fitness_score(df_filtered_ec):\n",
    "    # Pivot the data for the heatmap\n",
    "    heatmap_data = df_filtered_ec.pivot_table(index='RESIDUE_NUMBER', columns='PDB_ID', values='FITNESS', aggfunc='mean')\n",
    "\n",
    "    # Creating the heatmap\n",
    "    plt.figure(figsize=(14, 10))\n",
    "    sns.heatmap(heatmap_data, annot=False, cmap=\"viridis\")\n",
    "    plt.title('Heatmap of FITNESS Scores by Residue number and PDB ID')\n",
    "    plt.xlabel('PDB ID')\n",
    "    plt.ylabel('Residue')\n",
    "    plt.xticks(rotation=45)\n",
    "    plt.tight_layout()\n",
    "    plt.show()"
   ]
  },
  {
   "cell_type": "code",
   "execution_count": 52,
   "metadata": {},
   "outputs": [],
   "source": [
    "def heatmap_pocket_pdbID_by_fitness_score(df_filtered_ec):\n",
    "    heatmap_data = df_filtered_ec.pivot_table(index='POCKET', columns='PDB_ID', values='avg_fitness', aggfunc='mean')\n",
    "    # Creating the heatmap\n",
    "    plt.figure(figsize=(14, 10))\n",
    "    sns.heatmap(heatmap_data, annot=False, cmap=\"viridis\")\n",
    "    plt.title('Heatmap of Average Fitness Scores by Pocket and PDB ID')\n",
    "    plt.xlabel('PDB ID')\n",
    "    plt.ylabel('Residue')\n",
    "    plt.xticks(rotation=45)\n",
    "    plt.tight_layout()\n",
    "    plt.show()"
   ]
  },
  {
   "cell_type": "markdown",
   "metadata": {},
   "source": [
    "## Visualization of EC numbers in pockets and proteins\n",
    "You can see the distribution of EC numbers in the pockets and proteins. The color of heatmap represents fitness score where 0 (zero) is the best score."
   ]
  },
  {
   "cell_type": "code",
   "execution_count": 53,
   "metadata": {},
   "outputs": [
    {
     "data": {
      "application/vnd.jupyter.widget-view+json": {
       "model_id": "2272865cee48442fb71b498a7aa250b9",
       "version_major": 2,
       "version_minor": 0
      },
      "text/plain": [
       "interactive(children=(Dropdown(description='ec_number', options=('1.6.6.-', '1.9.3.1', '4.2.1.22', '2.5.1.17',…"
      ]
     },
     "metadata": {},
     "output_type": "display_data"
    }
   ],
   "source": [
    "@interact\n",
    "def visualize_heatmap_pocket_pdbid_ecnumber(ec_number = df_filtered['EC_NUMBER'].unique()):\n",
    "    # Filter data according to the selected EC number\n",
    "    df_filtered_ec = df_filtered[df_filtered['EC_NUMBER'] == ec_number]\n",
    "    heatmap_pocket_pdbID_by_fitness_score(df_filtered_ec)\n",
    "   "
   ]
  },
  {
   "cell_type": "markdown",
   "metadata": {},
   "source": [
    "## Visualization of EC numbers (second level) in pockets and proteins\n",
    "You can see the distribution of EC numbers (second level) in the pockets and proteins. The color of heatmap represents fitness score where 0 (zero) is the best score."
   ]
  },
  {
   "cell_type": "code",
   "execution_count": 54,
   "metadata": {},
   "outputs": [
    {
     "data": {
      "application/vnd.jupyter.widget-view+json": {
       "model_id": "6002578f3c814f94a5f487a322499af6",
       "version_major": 2,
       "version_minor": 0
      },
      "text/plain": [
       "interactive(children=(Dropdown(description='ec_number', options=('1.6', '1.9', '4.2', '2.5', '4.3', '4.1', '1.…"
      ]
     },
     "metadata": {},
     "output_type": "display_data"
    }
   ],
   "source": [
    "@interact\n",
    "def visualize_heatmap_pocket_pdbid_ecnumber(ec_number= df_filtered['EC_NUMBER_2'].unique()):\n",
    "    # Filter data according to the selected EC number\n",
    "    df_filtered_ec = df_filtered[df_filtered['EC_NUMBER_2'] == ec_number]\n",
    "    heatmap_pocket_pdbID_by_fitness_score(df_filtered_ec)"
   ]
  },
  {
   "cell_type": "markdown",
   "metadata": {},
   "source": [
    "## Visualization of EC numbers (first level) in pockets and proteins\n",
    "You can see the distribution of EC numbers (first level) in the pockets and proteins. The color of heatmap represents fitness score where 0 (zero) is the best score.\n"
   ]
  },
  {
   "cell_type": "code",
   "execution_count": 55,
   "metadata": {},
   "outputs": [
    {
     "data": {
      "application/vnd.jupyter.widget-view+json": {
       "model_id": "8be201a226104914bcccd1d54d34d139",
       "version_major": 2,
       "version_minor": 0
      },
      "text/plain": [
       "interactive(children=(Dropdown(description='ec_number', options=('1', '4', '2', '6', '5', nan, '3'), value='1'…"
      ]
     },
     "metadata": {},
     "output_type": "display_data"
    }
   ],
   "source": [
    "@interact\n",
    "def visualize_heatmap_pocket_pdbid_ecnumber(ec_number= df_filtered['EC_NUMBER_1'].unique()):\n",
    "    # Filter data according to the selected EC number\n",
    "    df_filtered_ec = df_filtered[df_filtered['EC_NUMBER_1'] == ec_number]\n",
    "    heatmap_pocket_pdbID_by_fitness_score(df_filtered_ec)"
   ]
  },
  {
   "cell_type": "markdown",
   "metadata": {},
   "source": [
    "## Visualization of EC numbers in residues and proteins\n",
    "You can see the distribution of EC numbers in the residues and proteins. The color of heatmap represents fitness score where 0 (zero) is the best score."
   ]
  },
  {
   "cell_type": "code",
   "execution_count": 57,
   "metadata": {},
   "outputs": [
    {
     "data": {
      "application/vnd.jupyter.widget-view+json": {
       "model_id": "2ad68ba567584058ab0fd9e6fdc878fa",
       "version_major": 2,
       "version_minor": 0
      },
      "text/plain": [
       "interactive(children=(Dropdown(description='ec_number', options=('1.6.6.-', '1.9.3.1', '4.2.1.22', '2.5.1.17',…"
      ]
     },
     "metadata": {},
     "output_type": "display_data"
    }
   ],
   "source": [
    "@interact\n",
    "def visualize_heatmap_pocket_pdbid_ecnumber(ec_number = df_filtered['EC_NUMBER'].unique()):\n",
    "    # Filter data according to the selected EC number\n",
    "    df_filtered_ec = df_filtered[df_filtered['EC_NUMBER'] == ec_number]\n",
    "    heatmap_residue_pdbID_by_fitness_score(df_filtered_ec)"
   ]
  },
  {
   "cell_type": "markdown",
   "metadata": {},
   "source": [
    "## Visualization of EC numbers (second level) in residues and proteins\n",
    "You can see the distribution of EC numbers (second level) in the residues and proteins. The color of heatmap represents fitness score where 0 (zero) is the best score."
   ]
  },
  {
   "cell_type": "code",
   "execution_count": 58,
   "metadata": {},
   "outputs": [
    {
     "data": {
      "application/vnd.jupyter.widget-view+json": {
       "model_id": "5beb14f35acc449ab5d5b481a31e5ceb",
       "version_major": 2,
       "version_minor": 0
      },
      "text/plain": [
       "interactive(children=(Dropdown(description='ec_number', options=('1.6', '1.9', '4.2', '2.5', '4.3', '4.1', '1.…"
      ]
     },
     "metadata": {},
     "output_type": "display_data"
    }
   ],
   "source": [
    "@interact\n",
    "def visualize_heatmap_pocket_pdbid_ecnumber(ec_number = df_filtered['EC_NUMBER_2'].unique()):\n",
    "    # Filter data according to the selected EC number\n",
    "    df_filtered_ec = df_filtered[df_filtered['EC_NUMBER_2'] == ec_number]\n",
    "    heatmap_residue_pdbID_by_fitness_score(df_filtered_ec)"
   ]
  },
  {
   "cell_type": "markdown",
   "metadata": {},
   "source": [
    "## Visualization of EC numbers (first level) in residues and proteins\n",
    "You can see the distribution of EC numbers (first level) in the residues and proteins. The color of heatmap represents fitness score where 0 (zero) is the best score."
   ]
  },
  {
   "cell_type": "code",
   "execution_count": 59,
   "metadata": {},
   "outputs": [
    {
     "data": {
      "application/vnd.jupyter.widget-view+json": {
       "model_id": "09ddc13199fe4889865b173993c1f9a2",
       "version_major": 2,
       "version_minor": 0
      },
      "text/plain": [
       "interactive(children=(Dropdown(description='ec_number', options=('1', '4', '2', '6', '5', nan, '3'), value='1'…"
      ]
     },
     "metadata": {},
     "output_type": "display_data"
    }
   ],
   "source": [
    "@interact\n",
    "def visualize_heatmap_pocket_pdbid_ecnumber(ec_number = df_filtered['EC_NUMBER_1'].unique()):\n",
    "    # Filter data according to the selected EC number\n",
    "    df_filtered_ec = df_filtered[df_filtered['EC_NUMBER_1'] == ec_number]\n",
    "    heatmap_residue_pdbID_by_fitness_score(df_filtered_ec)"
   ]
  }
 ],
 "metadata": {
  "kernelspec": {
   "display_name": "Python 3 (ipykernel)",
   "language": "python",
   "name": "python3"
  },
  "language_info": {
   "codemirror_mode": {
    "name": "ipython",
    "version": 3
   },
   "file_extension": ".py",
   "mimetype": "text/x-python",
   "name": "python",
   "nbconvert_exporter": "python",
   "pygments_lexer": "ipython3",
   "version": "3.11.5"
  },
  "widgets": {
   "application/vnd.jupyter.widget-state+json": {
    "state": {},
    "version_major": 2,
    "version_minor": 0
   }
  }
 },
 "nbformat": 4,
 "nbformat_minor": 4
}
