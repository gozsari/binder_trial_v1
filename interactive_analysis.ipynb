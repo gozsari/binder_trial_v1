{
 "cells": [
  {
   "cell_type": "code",
   "execution_count": 1,
   "metadata": {},
   "outputs": [],
   "source": [
    "import pandas as pd\n",
    "import numpy as np\n",
    "import matplotlib.pyplot as plt\n",
    "import seaborn as sns\n",
    "from ipywidgets import interact, interactive, fixed, interact_manual\n",
    "\n"
   ]
  },
  {
   "cell_type": "code",
   "execution_count": 3,
   "metadata": {},
   "outputs": [
    {
     "data": {
      "text/html": [
       "<div>\n",
       "<style scoped>\n",
       "    .dataframe tbody tr th:only-of-type {\n",
       "        vertical-align: middle;\n",
       "    }\n",
       "\n",
       "    .dataframe tbody tr th {\n",
       "        vertical-align: top;\n",
       "    }\n",
       "\n",
       "    .dataframe thead th {\n",
       "        text-align: right;\n",
       "    }\n",
       "</style>\n",
       "<table border=\"1\" class=\"dataframe\">\n",
       "  <thead>\n",
       "    <tr style=\"text-align: right;\">\n",
       "      <th></th>\n",
       "      <th>POCKET</th>\n",
       "      <th>RESIDUE</th>\n",
       "      <th>EC_NUMBER</th>\n",
       "      <th>FITNESS</th>\n",
       "      <th>PDB_ID</th>\n",
       "      <th>TEMPLATE_RESIDUE_NUMBER</th>\n",
       "      <th>EC_NUMBER_2</th>\n",
       "      <th>EC_NUMBER_1</th>\n",
       "      <th>RESIDUE_NUMBER</th>\n",
       "      <th>CHAIN</th>\n",
       "      <th>avg_fitness</th>\n",
       "    </tr>\n",
       "  </thead>\n",
       "  <tbody>\n",
       "    <tr>\n",
       "      <th>10</th>\n",
       "      <td>pocket3</td>\n",
       "      <td>B_43</td>\n",
       "      <td>1.6.6.-</td>\n",
       "      <td>0.0101</td>\n",
       "      <td>2n0a</td>\n",
       "      <td>2</td>\n",
       "      <td>1.6</td>\n",
       "      <td>1</td>\n",
       "      <td>43</td>\n",
       "      <td>B</td>\n",
       "      <td>0.562400</td>\n",
       "    </tr>\n",
       "    <tr>\n",
       "      <th>11</th>\n",
       "      <td>pocket3</td>\n",
       "      <td>E_46</td>\n",
       "      <td>1.9.3.1</td>\n",
       "      <td>0.0403</td>\n",
       "      <td>2n0a</td>\n",
       "      <td>2</td>\n",
       "      <td>1.9</td>\n",
       "      <td>1</td>\n",
       "      <td>46</td>\n",
       "      <td>E</td>\n",
       "      <td>0.562400</td>\n",
       "    </tr>\n",
       "    <tr>\n",
       "      <th>12</th>\n",
       "      <td>pocket3</td>\n",
       "      <td>E_80</td>\n",
       "      <td>4.2.1.22</td>\n",
       "      <td>0.0192</td>\n",
       "      <td>2n0a</td>\n",
       "      <td>2</td>\n",
       "      <td>4.2</td>\n",
       "      <td>4</td>\n",
       "      <td>80</td>\n",
       "      <td>E</td>\n",
       "      <td>0.562400</td>\n",
       "    </tr>\n",
       "    <tr>\n",
       "      <th>13</th>\n",
       "      <td>pocket4</td>\n",
       "      <td>A_80</td>\n",
       "      <td>2.5.1.17</td>\n",
       "      <td>0.0255</td>\n",
       "      <td>2n0a</td>\n",
       "      <td>2</td>\n",
       "      <td>2.5</td>\n",
       "      <td>2</td>\n",
       "      <td>80</td>\n",
       "      <td>A</td>\n",
       "      <td>1.753629</td>\n",
       "    </tr>\n",
       "    <tr>\n",
       "      <th>14</th>\n",
       "      <td>pocket4</td>\n",
       "      <td>C_80</td>\n",
       "      <td>4.2.1.22</td>\n",
       "      <td>0.0365</td>\n",
       "      <td>2n0a</td>\n",
       "      <td>2</td>\n",
       "      <td>4.2</td>\n",
       "      <td>4</td>\n",
       "      <td>80</td>\n",
       "      <td>C</td>\n",
       "      <td>1.753629</td>\n",
       "    </tr>\n",
       "  </tbody>\n",
       "</table>\n",
       "</div>"
      ],
      "text/plain": [
       "     POCKET RESIDUE EC_NUMBER  FITNESS PDB_ID  TEMPLATE_RESIDUE_NUMBER  \\\n",
       "10  pocket3    B_43   1.6.6.-   0.0101   2n0a                        2   \n",
       "11  pocket3    E_46   1.9.3.1   0.0403   2n0a                        2   \n",
       "12  pocket3    E_80  4.2.1.22   0.0192   2n0a                        2   \n",
       "13  pocket4    A_80  2.5.1.17   0.0255   2n0a                        2   \n",
       "14  pocket4    C_80  4.2.1.22   0.0365   2n0a                        2   \n",
       "\n",
       "   EC_NUMBER_2 EC_NUMBER_1 RESIDUE_NUMBER CHAIN  avg_fitness  \n",
       "10         1.6           1             43     B     0.562400  \n",
       "11         1.9           1             46     E     0.562400  \n",
       "12         4.2           4             80     E     0.562400  \n",
       "13         2.5           2             80     A     1.753629  \n",
       "14         4.2           4             80     C     1.753629  "
      ]
     },
     "execution_count": 3,
     "metadata": {},
     "output_type": "execute_result"
    }
   ],
   "source": [
    "# load data from csv\n",
    "df = pd.read_csv('pocket_active_sites_gass_prank.csv', sep=',', header=0)\n",
    "# create new column with first two letters of EC number\n",
    "df['EC_NUMBER_2'] = df['EC_NUMBER'].str[:3]\n",
    "\n",
    "# create new column with first letter of EC number\n",
    "df['EC_NUMBER_1'] = df['EC_NUMBER'].str[:1]\n",
    "\n",
    "#strip whitespace from the values in the 'POCKET' column\n",
    "df['POCKET'] = df['POCKET'].str.strip()\n",
    "\n",
    "# filter according to POCKET (filter out pocket1 and pocket2)\n",
    "df_filtered = df[df['POCKET'] != 'pocket1']\n",
    "df_filtered = df_filtered[df_filtered['POCKET'] != 'pocket2']\n",
    "\n",
    "# create a new column with only residue number (strip the chain)\n",
    "df_filtered['RESIDUE_NUMBER'] = df_filtered['RESIDUE'].str[2:]\n",
    "\n",
    "# create a new column with only chain \n",
    "df_filtered['CHAIN'] = df_filtered['RESIDUE'].str[0]\n",
    "\n",
    "# filter data according to fitness score < 5\n",
    "df_filtered = df_filtered[df_filtered['FITNESS'] < 5]\n",
    "\n",
    "\n",
    "# form a column which calculates average FITNESS score for each POCKET in each PDB_ID\n",
    "df_filtered['avg_fitness'] = df_filtered.groupby(['PDB_ID', 'POCKET'])['FITNESS'].transform('mean')\n",
    "\n",
    "df_filtered.head()"
   ]
  },
  {
   "cell_type": "code",
   "execution_count": 4,
   "metadata": {},
   "outputs": [],
   "source": [
    "def heatmap_pocket_pdbID_by_fitness_score(df_filtered_ec):\n",
    "    heatmap_data = df_filtered_ec.pivot_table(index='POCKET', columns='PDB_ID', values='avg_fitness', aggfunc='mean')\n",
    "    # Creating the heatmap\n",
    "    plt.figure(figsize=(14, 10))\n",
    "    sns.heatmap(heatmap_data, annot=False, cmap=\"viridis\")\n",
    "    plt.title('Heatmap of Average Fitness Scores by Pocket and PDB ID')\n",
    "    plt.xlabel('PDB ID')\n",
    "    plt.ylabel('Residue')\n",
    "    plt.xticks(rotation=45)\n",
    "    plt.tight_layout()\n",
    "    plt.show()"
   ]
  },
  {
   "cell_type": "code",
   "execution_count": 5,
   "metadata": {},
   "outputs": [
    {
     "data": {
      "application/vnd.jupyter.widget-view+json": {
       "model_id": "bc694ae8b9364841813e53e046294452",
       "version_major": 2,
       "version_minor": 0
      },
      "text/plain": [
       "interactive(children=(Dropdown(description='ec_number', options=('1.6.6.-', '1.9.3.1', '4.2.1.22', '2.5.1.17',…"
      ]
     },
     "metadata": {},
     "output_type": "display_data"
    }
   ],
   "source": [
    "@interact\n",
    "def visualize_heatmap_pocket_pdbid_ecnumber(ec_number = df_filtered['EC_NUMBER'].unique()):\n",
    "    # Filter data according to the selected EC number\n",
    "    df_filtered_ec = df_filtered[df_filtered['EC_NUMBER'] == ec_number]\n",
    "    heatmap_pocket_pdbID_by_fitness_score(df_filtered_ec)\n",
    "   "
   ]
  },
  {
   "cell_type": "code",
   "execution_count": 6,
   "metadata": {},
   "outputs": [
    {
     "data": {
      "application/vnd.jupyter.widget-view+json": {
       "model_id": "bdd83b16f7674787942f923c451d01d0",
       "version_major": 2,
       "version_minor": 0
      },
      "text/plain": [
       "interactive(children=(Dropdown(description='ec_number', options=('1.6', '1.9', '4.2', '2.5', '4.3', '4.1', '1.…"
      ]
     },
     "metadata": {},
     "output_type": "display_data"
    }
   ],
   "source": [
    "@interact\n",
    "def visualize_heatmap_pocket_pdbid_ecnumber(ec_number= df_filtered['EC_NUMBER_2'].unique()):\n",
    "    # Filter data according to the selected EC number\n",
    "    df_filtered_ec = df_filtered[df_filtered['EC_NUMBER_2'] == ec_number]\n",
    "    heatmap_pocket_pdbID_by_fitness_score(df_filtered_ec)"
   ]
  },
  {
   "cell_type": "code",
   "execution_count": 7,
   "metadata": {},
   "outputs": [
    {
     "data": {
      "application/vnd.jupyter.widget-view+json": {
       "model_id": "6c798713b0ff4567a3889637438a63c3",
       "version_major": 2,
       "version_minor": 0
      },
      "text/plain": [
       "interactive(children=(Dropdown(description='ec_number', options=('1', '4', '2', '6', '5', nan, '3'), value='1'…"
      ]
     },
     "metadata": {},
     "output_type": "display_data"
    }
   ],
   "source": [
    "@interact\n",
    "def visualize_heatmap_pocket_pdbid_ecnumber(ec_number= df_filtered['EC_NUMBER_1'].unique()):\n",
    "    # Filter data according to the selected EC number\n",
    "    df_filtered_ec = df_filtered[df_filtered['EC_NUMBER_1'] == ec_number]\n",
    "    heatmap_pocket_pdbID_by_fitness_score(df_filtered_ec)"
   ]
  },
  {
   "cell_type": "code",
   "execution_count": 9,
   "metadata": {},
   "outputs": [],
   "source": [
    "def heatmap_residue_pdbID_by_fitness_score(df_filtered_ec):\n",
    "    # Pivot the data for the heatmap\n",
    "    heatmap_data = df_filtered_ec.pivot_table(index='RESIDUE_NUMBER', columns='PDB_ID', values='FITNESS', aggfunc='mean')\n",
    "\n",
    "    # Creating the heatmap\n",
    "    plt.figure(figsize=(14, 10))\n",
    "    sns.heatmap(heatmap_data, annot=False, cmap=\"viridis\")\n",
    "    plt.title('Heatmap of FITNESS Scores by Residue number and PDB ID')\n",
    "    plt.xlabel('PDB ID')\n",
    "    plt.ylabel('Residue')\n",
    "    plt.xticks(rotation=45)\n",
    "    plt.tight_layout()\n",
    "    plt.show()"
   ]
  },
  {
   "cell_type": "code",
   "execution_count": 10,
   "metadata": {},
   "outputs": [
    {
     "data": {
      "application/vnd.jupyter.widget-view+json": {
       "model_id": "faed8a68a68c4d38b53980a435434a1a",
       "version_major": 2,
       "version_minor": 0
      },
      "text/plain": [
       "interactive(children=(Dropdown(description='ec_number', options=('1.6.6.-', '1.9.3.1', '4.2.1.22', '2.5.1.17',…"
      ]
     },
     "metadata": {},
     "output_type": "display_data"
    }
   ],
   "source": [
    "@interact\n",
    "def visualize_heatmap_pocket_pdbid_ecnumber(ec_number = df_filtered['EC_NUMBER'].unique()):\n",
    "    # Filter data according to the selected EC number\n",
    "    df_filtered_ec = df_filtered[df_filtered['EC_NUMBER'] == ec_number]\n",
    "    heatmap_residue_pdbID_by_fitness_score(df_filtered_ec)"
   ]
  },
  {
   "cell_type": "code",
   "execution_count": 11,
   "metadata": {},
   "outputs": [
    {
     "data": {
      "application/vnd.jupyter.widget-view+json": {
       "model_id": "761c760b740f42f8b4470b294c5d3ce8",
       "version_major": 2,
       "version_minor": 0
      },
      "text/plain": [
       "interactive(children=(Dropdown(description='ec_number', options=('1.6', '1.9', '4.2', '2.5', '4.3', '4.1', '1.…"
      ]
     },
     "metadata": {},
     "output_type": "display_data"
    }
   ],
   "source": [
    "@interact\n",
    "def visualize_heatmap_pocket_pdbid_ecnumber(ec_number = df_filtered['EC_NUMBER_2'].unique()):\n",
    "    # Filter data according to the selected EC number\n",
    "    df_filtered_ec = df_filtered[df_filtered['EC_NUMBER_2'] == ec_number]\n",
    "    heatmap_residue_pdbID_by_fitness_score(df_filtered_ec)"
   ]
  },
  {
   "cell_type": "code",
   "execution_count": 12,
   "metadata": {},
   "outputs": [
    {
     "data": {
      "application/vnd.jupyter.widget-view+json": {
       "model_id": "ab2cc186f51343cf93d21f4d63480ec9",
       "version_major": 2,
       "version_minor": 0
      },
      "text/plain": [
       "interactive(children=(Dropdown(description='ec_number', options=('1', '4', '2', '6', '5', nan, '3'), value='1'…"
      ]
     },
     "metadata": {},
     "output_type": "display_data"
    }
   ],
   "source": [
    "@interact\n",
    "def visualize_heatmap_pocket_pdbid_ecnumber(ec_number = df_filtered['EC_NUMBER_1'].unique()):\n",
    "    # Filter data according to the selected EC number\n",
    "    df_filtered_ec = df_filtered[df_filtered['EC_NUMBER_1'] == ec_number]\n",
    "    heatmap_residue_pdbID_by_fitness_score(df_filtered_ec)"
   ]
  },
  {
   "cell_type": "code",
   "execution_count": 13,
   "metadata": {},
   "outputs": [
    {
     "data": {
      "application/vnd.jupyter.widget-view+json": {
       "model_id": "9ee4a5e4d21749479ad7a0049c6c49f1",
       "version_major": 2,
       "version_minor": 0
      },
      "text/plain": [
       "interactive(children=(Dropdown(description='ec_number', options=('1.6', '1.9', '4.2', '2.5', '4.3', '4.1', '1.…"
      ]
     },
     "metadata": {},
     "output_type": "display_data"
    }
   ],
   "source": [
    "@interact\n",
    "def visualize_heatmap_pocket_pdbid_ecnumber(ec_number = df_filtered['EC_NUMBER_2'].unique(), chain = df_filtered['CHAIN'].unique()):\n",
    "    # Filter data according to the selected EC number\n",
    "    df_filtered_ec = df_filtered[df_filtered['EC_NUMBER_2'] == ec_number]\n",
    "    df_filtered_ec = df_filtered_ec[df_filtered_ec['CHAIN'] == chain]\n",
    "    heatmap_residue_pdbID_by_fitness_score(df_filtered_ec)"
   ]
  }
 ],
 "metadata": {
  "kernelspec": {
   "display_name": "Python 3 (ipykernel)",
   "language": "python",
   "name": "python3"
  },
  "language_info": {
   "codemirror_mode": {
    "name": "ipython",
    "version": 3
   },
   "file_extension": ".py",
   "mimetype": "text/x-python",
   "name": "python",
   "nbconvert_exporter": "python",
   "pygments_lexer": "ipython3",
   "version": "3.12.2"
  },
  "widgets": {
   "application/vnd.jupyter.widget-state+json": {
    "state": {},
    "version_major": 2,
    "version_minor": 0
   }
  }
 },
 "nbformat": 4,
 "nbformat_minor": 4
}
